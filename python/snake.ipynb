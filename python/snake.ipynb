{
 "cells": [
  {
   "cell_type": "markdown",
   "metadata": {},
   "source": [
    "1. Import Libraries"
   ]
  },
  {
   "cell_type": "code",
   "execution_count": 2,
   "metadata": {},
   "outputs": [],
   "source": [
    "# !pip pygame"
   ]
  },
  {
   "cell_type": "code",
   "execution_count": 3,
   "metadata": {},
   "outputs": [],
   "source": [
    "import warnings\n",
    "\n",
    "# Disable all warnings\n",
    "warnings.filterwarnings(\"ignore\")"
   ]
  },
  {
   "cell_type": "code",
   "execution_count": 4,
   "metadata": {},
   "outputs": [
    {
     "name": "stdout",
     "output_type": "stream",
     "text": [
      "pygame 2.5.2 (SDL 2.28.2, Python 3.8.10)\n",
      "Hello from the pygame community. https://www.pygame.org/contribute.html\n"
     ]
    }
   ],
   "source": [
    "import pygame\n",
    "from pygame.locals import *\n",
    "import random"
   ]
  },
  {
   "cell_type": "markdown",
   "metadata": {},
   "source": [
    "2. Setting Up Constants"
   ]
  },
  {
   "cell_type": "code",
   "execution_count": 5,
   "metadata": {},
   "outputs": [],
   "source": [
    "WINDOW_SIZE = (600, 600)\n",
    "PIXEL_SIZE = 10"
   ]
  },
  {
   "cell_type": "markdown",
   "metadata": {},
   "source": [
    "3. Helper Functions"
   ]
  },
  {
   "cell_type": "code",
   "execution_count": 6,
   "metadata": {},
   "outputs": [],
   "source": [
    "# Collision detection function\n",
    "def collision(pos1, pos2):\n",
    "    \"\"\"\n",
    "    Check if two positions are colliding.\n",
    "\n",
    "    Parameters:\n",
    "        pos1 (tuple): Position of the first object.\n",
    "        pos2 (tuple): Position of the second object.\n",
    "\n",
    "    Returns:\n",
    "        bool: True if the positions are equal (colliding), False otherwise.\n",
    "    \"\"\"\n",
    "    return pos1 == pos2  # Returns True if the positions are equal, indicating a collision.\n",
    "\n",
    "# Boundary Check function\n",
    "def off_limits(pos):\n",
    "    \"\"\"\n",
    "    Check if a position is within the boundaries of the game window.\n",
    "\n",
    "    Parameters:\n",
    "        pos (tuple): Position to check.\n",
    "\n",
    "    Returns:\n",
    "        bool: True if the position is off the limits, False if within the limits.\n",
    "    \"\"\"\n",
    "    if 0 <= pos[0] < WINDOW_SIZE[0] and 0 <= pos[1] < WINDOW_SIZE[1]:  # Check if the position is within the window bounds.\n",
    "        return False  # Position is within the limits.\n",
    "    else:\n",
    "        return True  # Position is off the limits.\n",
    "\n",
    "# Generate a random position for the apple function\n",
    "def random_on_grid():\n",
    "    \"\"\"\n",
    "    Generate a random position within the grid for the apple.\n",
    "\n",
    "    Returns:\n",
    "        tuple: Random position within the grid, aligned to the grid cell size.\n",
    "    \"\"\"\n",
    "    x = random.randint(0, WINDOW_SIZE[0] - PIXEL_SIZE)  # Generate a random x-coordinate within the grid.\n",
    "    y = random.randint(0, WINDOW_SIZE[1] - PIXEL_SIZE)  # Generate a random y-coordinate within the grid.\n",
    "    return x // PIXEL_SIZE * PIXEL_SIZE, y // PIXEL_SIZE * PIXEL_SIZE  # Align the coordinates to the grid cell size and return as a tuple.\n"
   ]
  },
  {
   "cell_type": "markdown",
   "metadata": {},
   "source": [
    "4. Initializing Pygame\n",
    "5. Initializing Game Elements\n",
    "6. Adding Score Display\n",
    "7. Game Restart Function\n",
    "8. Main Game Loop"
   ]
  },
  {
   "cell_type": "code",
   "execution_count": null,
   "metadata": {},
   "outputs": [],
   "source": [
    "# Step 4\n",
    "pygame.init()  # Initialize all imported Pygame modules.\n",
    "screen = pygame.display.set_mode(WINDOW_SIZE)  # Set the display window size.\n",
    "pygame.display.set_caption('Snake')  # Set the window title to 'Snake'.\n",
    "\n",
    "# Step 5\n",
    "snake_pos = [(250, 50), (260, 50), (270, 50)]  # Initial position of the snake as a list of tuples.\n",
    "snake_surface = pygame.Surface((PIXEL_SIZE, PIXEL_SIZE))  # Create a surface for the snake of size PIXEL_SIZE x PIXEL_SIZE.\n",
    "snake_surface.fill((0, 255, 0))  # Fill the snake surface with green color.\n",
    "snake_direction = K_LEFT  # Initial direction of the snake is left.\n",
    "\n",
    "apple_surface = pygame.Surface((PIXEL_SIZE, PIXEL_SIZE))  # Create a surface for the apple of size PIXEL_SIZE x PIXEL_SIZE.\n",
    "apple_surface.fill((255, 0, 0))  # Fill the apple surface with red color.\n",
    "apple_pos = random_on_grid()  # Place the apple at a random position on the grid.\n",
    "\n",
    "# Step 6\n",
    "score = 0  # Initialize the score to zero.\n",
    "font = pygame.font.SysFont(None, 35)  # Set the font for displaying the score.\n",
    "\n",
    "def display_score(score):\n",
    "    score_text = font.render('Score: '+ str(score), True, (255, 255, 255))  # Render the score text in white color.\n",
    "    screen.blit(score_text, [0, 0])  # Draw the score text on the screen at the top left corner.\n",
    "\n",
    "# Step 7\n",
    "def restart_game():\n",
    "    global snake_pos, apple_pos, snake_direction, score\n",
    "    snake_pos = [(250, 50), (260, 50), (270, 50)]  # Reset snake position.\n",
    "    snake_direction = K_LEFT  # Reset snake direction to left.\n",
    "    apple_pos = random_on_grid()  # Place the apple at a random position on the grid.\n",
    "    score = 0  # Reset score to zero.\n",
    "\n",
    "# Step 8\n",
    "while True:\n",
    "    pygame.time.Clock().tick(15)  # Control the game speed, 15 frames per second.\n",
    "    screen.fill((0, 0, 0))  # Fill the screen with black color, effectively clearing it.\n",
    "\n",
    "    for event in pygame.event.get():\n",
    "        if event.type == QUIT:  # If the quit event is triggered (window closed), exit the game.\n",
    "            pygame.quit()  # Uninitialize all Pygame modules.\n",
    "            quit()  # Exit the program.\n",
    "\n",
    "        elif event.type == KEYDOWN:  # If a key is pressed down.\n",
    "            if event.key in [K_UP, K_DOWN, K_LEFT, K_RIGHT]:  # If the key is an arrow key.\n",
    "                # Change direction only if it's not directly opposite to the current direction.\n",
    "                if (event.key == K_UP and snake_direction != K_DOWN) or \\\n",
    "                    (event.key == K_DOWN and snake_direction != K_UP) or \\\n",
    "                    (event.key == K_LEFT and snake_direction != K_RIGHT) or \\\n",
    "                    (event.key == K_RIGHT and snake_direction != K_LEFT):\n",
    "                    snake_direction = event.key  # Update snake direction.\n",
    "\n",
    "    screen.blit(apple_surface, apple_pos)  # Draw the apple on the screen at its current position.\n",
    "\n",
    "    # Collisions\n",
    "    if collision(apple_pos, snake_pos[0]):  # Check if the snake's head collides with the apple.\n",
    "        snake_pos.append((-10, -10))  # Add a new segment to the snake (initially off-screen).\n",
    "        apple_pos = random_on_grid()  # Place a new apple at a random position on the grid.\n",
    "        score += 1  # Increment the score.\n",
    "\n",
    "    for pos in snake_pos:  # For each segment of the snake.\n",
    "        screen.blit(snake_surface, pos)  # Draw the segment on the screen.\n",
    "\n",
    "    for i in range(len(snake_pos) - 1, 0, -1):  # Check for self-collision from the tail towards the head.\n",
    "        if collision(snake_pos[0], snake_pos[i]):  # If the head collides with any segment.\n",
    "            restart_game()  # Restart the game.\n",
    "            break\n",
    "        snake_pos[i] = snake_pos[i-1]  # Move the segment to the position of the previous segment.\n",
    "\n",
    "    # Screen limits\n",
    "    if off_limits(snake_pos[0]):  # Check if the snake's head is outside the screen boundaries.\n",
    "        restart_game()  # Restart the game.\n",
    "\n",
    "    # Snake direction update\n",
    "    if snake_direction == K_UP:  # If the direction is up.\n",
    "        snake_pos[0] = (snake_pos[0][0], snake_pos[0][1] - PIXEL_SIZE)  # Move the head up by PIXEL_SIZE.\n",
    "    elif snake_direction == K_DOWN:  # If the direction is down.\n",
    "        snake_pos[0] = (snake_pos[0][0], snake_pos[0][1] + PIXEL_SIZE)  # Move the head down by PIXEL_SIZE.\n",
    "    elif snake_direction == K_LEFT:  # If the direction is left.\n",
    "        snake_pos[0] = (snake_pos[0][0] - PIXEL_SIZE, snake_pos[0][1])  # Move the head left by PIXEL_SIZE.\n",
    "    elif snake_direction == K_RIGHT:  # If the direction is right.\n",
    "        snake_pos[0] = (snake_pos[0][0] + PIXEL_SIZE, snake_pos[0][1])  # Move the head right by PIXEL_SIZE.\n",
    "\n",
    "    display_score(score)  # Display the current score on the screen.\n",
    "    pygame.display.update()  # Update the display with the new changes.\n"
   ]
  }
 ],
 "metadata": {
  "kernelspec": {
   "display_name": "Python 3",
   "language": "python",
   "name": "python3"
  },
  "language_info": {
   "codemirror_mode": {
    "name": "ipython",
    "version": 3
   },
   "file_extension": ".py",
   "mimetype": "text/x-python",
   "name": "python",
   "nbconvert_exporter": "python",
   "pygments_lexer": "ipython3",
   "version": "3.8.10"
  }
 },
 "nbformat": 4,
 "nbformat_minor": 2
}
